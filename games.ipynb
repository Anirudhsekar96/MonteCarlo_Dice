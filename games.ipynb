{
 "cells": [
  {
   "cell_type": "code",
   "execution_count": 27,
   "metadata": {},
   "outputs": [],
   "source": [
    "import pandas as pd\n",
    "import numpy as np"
   ]
  },
  {
   "cell_type": "code",
   "execution_count": 28,
   "metadata": {},
   "outputs": [
    {
     "data": {
      "text/html": [
       "<div>\n",
       "<style scoped>\n",
       "    .dataframe tbody tr th:only-of-type {\n",
       "        vertical-align: middle;\n",
       "    }\n",
       "\n",
       "    .dataframe tbody tr th {\n",
       "        vertical-align: top;\n",
       "    }\n",
       "\n",
       "    .dataframe thead th {\n",
       "        text-align: right;\n",
       "    }\n",
       "</style>\n",
       "<table border=\"1\" class=\"dataframe\">\n",
       "  <thead>\n",
       "    <tr style=\"text-align: right;\">\n",
       "      <th></th>\n",
       "      <th>Take_money_above_val</th>\n",
       "      <th>Avg_Payoff</th>\n",
       "    </tr>\n",
       "  </thead>\n",
       "  <tbody>\n",
       "    <tr>\n",
       "      <th>0</th>\n",
       "      <td>0</td>\n",
       "      <td>100.00</td>\n",
       "    </tr>\n",
       "    <tr>\n",
       "      <th>1</th>\n",
       "      <td>1</td>\n",
       "      <td>356.19</td>\n",
       "    </tr>\n",
       "    <tr>\n",
       "      <th>2</th>\n",
       "      <td>2</td>\n",
       "      <td>392.31</td>\n",
       "    </tr>\n",
       "    <tr>\n",
       "      <th>3</th>\n",
       "      <td>3</td>\n",
       "      <td>442.69</td>\n",
       "    </tr>\n",
       "    <tr>\n",
       "      <th>4</th>\n",
       "      <td>4</td>\n",
       "      <td>472.15</td>\n",
       "    </tr>\n",
       "    <tr>\n",
       "      <th>5</th>\n",
       "      <td>5</td>\n",
       "      <td>0.00</td>\n",
       "    </tr>\n",
       "  </tbody>\n",
       "</table>\n",
       "</div>"
      ],
      "text/plain": [
       "   Take_money_above_val  Avg_Payoff\n",
       "0                     0      100.00\n",
       "1                     1      356.19\n",
       "2                     2      392.31\n",
       "3                     3      442.69\n",
       "4                     4      472.15\n",
       "5                     5        0.00"
      ]
     },
     "execution_count": 28,
     "metadata": {},
     "output_type": "execute_result"
    }
   ],
   "source": [
    "# Game where we have a die with n sides, we have multiple sequential rounds where we can either extract the value at the face of die or else forgoe extracting payoff in order to roll the die\n",
    "# in hope of getting a bigger value which we can keep on extracting from then on ...\n",
    "\n",
    "def take_payoff_above(die_val:int, val:int)->bool:\n",
    "    # Defining stratergy\n",
    "    if die_val>val:\n",
    "        return True\n",
    "    return False\n",
    "\n",
    "def roll_die(nsides:int)->int:\n",
    "    return np.random.randint(nsides)\n",
    "\n",
    "def run_experiment(nsides:int, num_rounds:int, take_payoff_val:int=0)->int:\n",
    "    # Defining the game\n",
    "    d = 1\n",
    "    total_val = 0\n",
    "    for _ in range(num_rounds):\n",
    "        take_payoff = take_payoff_above(die_val=d, val=take_payoff_val)\n",
    "        if take_payoff: total_val += d\n",
    "        else: d = roll_die(nsides=nsides)\n",
    "    return total_val\n",
    "\n",
    "def run_trials(num_trials:int=1000, nsides:int=6, num_rounds:int=100):\n",
    "    # Running the experiment across all stratergy values and for multiple rounds\n",
    "    # to get avg payoff\n",
    "\n",
    "    results = []\n",
    "    for take_payoff_val in range(nsides):\n",
    "        payoff = 0\n",
    "        for _ in range(num_trials):\n",
    "            payoff += run_experiment(nsides=nsides, num_rounds=num_rounds, take_payoff_val=take_payoff_val)\n",
    "        avg_payoff = payoff/num_trials\n",
    "        results.append([take_payoff_val, avg_payoff])\n",
    "    return results\n",
    "\n",
    "results = run_trials(num_trials=100,  nsides=6, num_rounds=100)\n",
    "results = pd.DataFrame(results, columns=['Take_money_above_val', 'Avg_Payoff'])\n",
    "results"
   ]
  },
  {
   "cell_type": "code",
   "execution_count": null,
   "metadata": {},
   "outputs": [],
   "source": [
    "\n"
   ]
  },
  {
   "cell_type": "code",
   "execution_count": null,
   "metadata": {},
   "outputs": [],
   "source": []
  }
 ],
 "metadata": {
  "kernelspec": {
   "display_name": "auction",
   "language": "python",
   "name": "python3"
  },
  "language_info": {
   "codemirror_mode": {
    "name": "ipython",
    "version": 3
   },
   "file_extension": ".py",
   "mimetype": "text/x-python",
   "name": "python",
   "nbconvert_exporter": "python",
   "pygments_lexer": "ipython3",
   "version": "3.11.4"
  }
 },
 "nbformat": 4,
 "nbformat_minor": 2
}
